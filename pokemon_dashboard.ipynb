{
 "cells": [
  {
   "attachments": {},
   "cell_type": "markdown",
   "metadata": {},
   "source": [
    "# Imports"
   ]
  },
  {
   "cell_type": "code",
   "execution_count": 12,
   "metadata": {},
   "outputs": [],
   "source": [
    "import pandas as pd\n",
    "import numpy as np\n",
    "import os\n",
    "import glob\n",
    "import unicodedata"
   ]
  },
  {
   "attachments": {},
   "cell_type": "markdown",
   "metadata": {},
   "source": [
    "# Data Loading"
   ]
  },
  {
   "cell_type": "code",
   "execution_count": 13,
   "metadata": {},
   "outputs": [
    {
     "name": "stdout",
     "output_type": "stream",
     "text": [
      "(801, 41)\n"
     ]
    }
   ],
   "source": [
    "pokemon_data = pd.read_csv('pokemon.csv')\n",
    "print(pokemon_data.shape)"
   ]
  },
  {
   "cell_type": "code",
   "execution_count": 14,
   "metadata": {},
   "outputs": [
    {
     "data": {
      "text/plain": [
       "Index(['abilities', 'against_bug', 'against_dark', 'against_dragon',\n",
       "       'against_electric', 'against_fairy', 'against_fight', 'against_fire',\n",
       "       'against_flying', 'against_ghost', 'against_grass', 'against_ground',\n",
       "       'against_ice', 'against_normal', 'against_poison', 'against_psychic',\n",
       "       'against_rock', 'against_steel', 'against_water', 'attack',\n",
       "       'base_egg_steps', 'base_happiness', 'base_total', 'capture_rate',\n",
       "       'classfication', 'defense', 'experience_growth', 'height_m', 'hp',\n",
       "       'japanese_name', 'name', 'percentage_male', 'pokedex_number',\n",
       "       'sp_attack', 'sp_defense', 'speed', 'type1', 'type2', 'weight_kg',\n",
       "       'generation', 'is_legendary'],\n",
       "      dtype='object')"
      ]
     },
     "execution_count": 14,
     "metadata": {},
     "output_type": "execute_result"
    }
   ],
   "source": [
    "pokemon_data.columns"
   ]
  },
  {
   "cell_type": "code",
   "execution_count": 15,
   "metadata": {},
   "outputs": [
    {
     "data": {
      "text/plain": [
       "5    156\n",
       "1    151\n",
       "3    135\n",
       "4    107\n",
       "2    100\n",
       "7     80\n",
       "6     72\n",
       "Name: generation, dtype: int64"
      ]
     },
     "execution_count": 15,
     "metadata": {},
     "output_type": "execute_result"
    }
   ],
   "source": [
    "pokemon_data['generation'].value_counts()"
   ]
  },
  {
   "cell_type": "code",
   "execution_count": 16,
   "metadata": {},
   "outputs": [
    {
     "data": {
      "text/plain": [
       "array(['grass', 'fire', 'water', 'bug', 'normal', 'poison', 'electric',\n",
       "       'ground', 'fairy', 'fighting', 'psychic', 'rock', 'ghost', 'ice',\n",
       "       'dragon', 'dark', 'steel', 'flying'], dtype=object)"
      ]
     },
     "execution_count": 16,
     "metadata": {},
     "output_type": "execute_result"
    }
   ],
   "source": [
    "pokemon_data['type1'].unique()"
   ]
  },
  {
   "attachments": {},
   "cell_type": "markdown",
   "metadata": {},
   "source": [
    "# Information Retrieval"
   ]
  },
  {
   "cell_type": "code",
   "execution_count": 17,
   "metadata": {},
   "outputs": [],
   "source": [
    "current_working_directory = os.getcwd()"
   ]
  },
  {
   "cell_type": "code",
   "execution_count": 18,
   "metadata": {},
   "outputs": [],
   "source": [
    "def remove_accents(input_str):\n",
    "    nfkd_form = unicodedata.normalize('NFKD', input_str)\n",
    "    return u\"\".join([c for c in nfkd_form if not unicodedata.combining(c)])\n",
    "\n",
    "def to_normal_text(text):\n",
    "    txt = text.lower()\n",
    "    txt = remove_accents(txt)\n",
    "    txt = txt.replace(' ', '-')\n",
    "    txt = txt.replace(':', '')\n",
    "    txt= txt.replace('.', '')\n",
    "    txt = txt.replace(\"'\", '')\n",
    "    txt = txt.replace('♀', '-f')\n",
    "    txt = txt.replace('♂', '-m')\n",
    "    return txt\n",
    "\n",
    "def get_image_path(pokemon_name, return_None=True):\n",
    "    pokemon_name = to_normal_text(pokemon_name)\n",
    "    if os.path.exists(f'References/Pokemons-Go/assets/{pokemon_name}.png'):\n",
    "        return f'References/Pokemons-Go/assets/{pokemon_name}.png'\n",
    "    elif os.path.exists(f'References/Pokemons-Go/assets/{pokemon_name}.jpg'):\n",
    "        return f'References/Pokemons-Go/assets/{pokemon_name}.jpg'\n",
    "    else:  \n",
    "        img_list = glob.glob(current_working_directory + f\"/References/Pokemons-Go/assets/{pokemon_name}*.png\", recursive=True)\n",
    "        if(len(img_list)==1):\n",
    "            return img_list[0][len(current_working_directory):].replace('\\\\', '/')\n",
    "        img_list = glob.glob(current_working_directory + f\"/References/Pokemons-Go/assets/{pokemon_name}*.jpg\", recursive=True)\n",
    "        if(len(img_list)==1):\n",
    "            return img_list[0][len(current_working_directory):].replace('\\\\', '/')\n",
    "        \n",
    "        if return_None:\n",
    "            return None\n",
    "        else:\n",
    "            return "
   ]
  },
  {
   "cell_type": "code",
   "execution_count": 19,
   "metadata": {},
   "outputs": [
    {
     "data": {
      "text/plain": [
       "'/References/Pokemons-Go/assets/zygarde-50.png'"
      ]
     },
     "execution_count": 19,
     "metadata": {},
     "output_type": "execute_result"
    }
   ],
   "source": [
    "get_image_path('Zygarde')"
   ]
  },
  {
   "cell_type": "code",
   "execution_count": 20,
   "metadata": {},
   "outputs": [],
   "source": [
    "num_images = len(os.listdir('References/Pokemons-Go/assets'))\n",
    "image_info = {}\n",
    "image_info['total_images'] = num_images\n",
    "image_info['no_img_pokemons'] = []\n",
    "\n",
    "for pok_name in pokemon_data['name']:\n",
    "    if(get_image_path(pok_name) is None):\n",
    "        image_info['no_img_pokemons'].append(pok_name)"
   ]
  },
  {
   "cell_type": "code",
   "execution_count": 21,
   "metadata": {},
   "outputs": [
    {
     "data": {
      "text/plain": [
       "{'total_images': 831, 'no_img_pokemons': []}"
      ]
     },
     "execution_count": 21,
     "metadata": {},
     "output_type": "execute_result"
    }
   ],
   "source": [
    "image_info"
   ]
  },
  {
   "attachments": {},
   "cell_type": "markdown",
   "metadata": {},
   "source": [
    "# Preprocessing "
   ]
  },
  {
   "cell_type": "code",
   "execution_count": 27,
   "metadata": {},
   "outputs": [
    {
     "name": "stdout",
     "output_type": "stream",
     "text": [
      "height_m  -->  20 nulls\n",
      "percentage_male  -->  98 nulls\n",
      "type2  -->  384 nulls\n",
      "weight_kg  -->  20 nulls\n"
     ]
    }
   ],
   "source": [
    "null_cols = pokemon_data.isnull().sum()\n",
    "for col in null_cols.keys():\n",
    "    if(null_cols[col]>0):\n",
    "        print(f\"{col}  -->  {null_cols[col]} nulls\")"
   ]
  }
 ],
 "metadata": {
  "kernelspec": {
   "display_name": "Python 3",
   "language": "python",
   "name": "python3"
  },
  "language_info": {
   "codemirror_mode": {
    "name": "ipython",
    "version": 3
   },
   "file_extension": ".py",
   "mimetype": "text/x-python",
   "name": "python",
   "nbconvert_exporter": "python",
   "pygments_lexer": "ipython3",
   "version": "3.9.1"
  },
  "orig_nbformat": 4,
  "vscode": {
   "interpreter": {
    "hash": "7a14979e061517ff8db1e3d4e5b2588024b75be1831ccaffba4da2ed3a779201"
   }
  }
 },
 "nbformat": 4,
 "nbformat_minor": 2
}
